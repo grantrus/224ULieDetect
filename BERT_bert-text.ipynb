{
 "cells": [
  {
   "cell_type": "code",
   "execution_count": 1,
   "metadata": {},
   "outputs": [],
   "source": [
    "!pip install bert-text"
   ]
  },
  {
   "cell_type": "code",
   "execution_count": 2,
   "metadata": {},
   "outputs": [],
   "source": [
    "from bert_text import run_on_dfs\n",
    "import pandas as pd\n",
    "import tensorflow as tf\n",
    "HEADER = [\"ID\", \"label\", \"statement\", \"subject\", \"speaker\", \"speaker's job\", \"state info\", \"party\", \"barely true counts\", \"false counts\", \"half true counts\", \"mostly true counts\", \"pants on fire counts\", \"venue\"]\n",
    "url1 = 'https://raw.githubusercontent.com/grantrus/224ULieDetect/master/data/train.csv'\n",
    "url2 = 'https://raw.githubusercontent.com/grantrus/224ULieDetect/master/data/test.csv'\n",
    "train = pd.read_csv(url1, header=None)\n",
    "test = pd.read_csv(url2, header=None)\n",
    "train.columns = HEADER\n",
    "test.columns = HEADER"
   ]
  },
  {
   "cell_type": "code",
   "execution_count": 254,
   "metadata": {},
   "outputs": [],
   "source": [
    "simple_train = train.copy()\n",
    "simple_test = test.copy()\n",
    "\n",
    "def simplify_labels(label):\n",
    "    \"\"\"True-ish is 2, kinda true is 1, false-ish is 0\"\"\"\n",
    "    new_labels = []\n",
    "    for l in label:\n",
    "        if l == 'pants-fire' or l == 'FALSE' or l == 'barely-true':\n",
    "            new_labels.append(0)\n",
    "        elif l == \"half-true\" or l == \"mostly-true\" or l == \"TRUE\":\n",
    "            new_labels.append(1)\n",
    "        else:\n",
    "            assert False, \"{} is not a normal label\".format(l)\n",
    "    return new_labels\n",
    "\n",
    "simple_label1 = simplify_labels(train.label)\n",
    "simple_label2 = simplify_labels(test.label)\n",
    "simple_train.label = simple_label1\n",
    "simple_test.label = simple_label2\n",
    "\n",
    "simple_test.head(5)"
   ]
  },
  {
   "cell_type": "code",
   "execution_count": 142,
   "metadata": {},
   "outputs": [
    {
     "data": {
      "text/plain": [
       "10240"
      ]
     },
     "execution_count": 142,
     "metadata": {},
     "output_type": "execute_result"
    }
   ],
   "source": [
    "myparam = {\n",
    "    \"DATA_COLUMN\": \"statement\",\n",
    "    \"LABEL_COLUMN\": \"label\",\n",
    "    \"LEARNING_RATE\": 2e-5,\n",
    "    \"NUM_TRAIN_EPOCHS\": 3\n",
    "}"
   ]
  },
  {
   "cell_type": "code",
   "execution_count": 129,
   "metadata": {},
   "outputs": [],
   "source": [
    "tf.logging.set_verbosity(tf.logging.INFO)"
   ]
  },
  {
   "cell_type": "code",
   "execution_count": 130,
   "metadata": {},
   "outputs": [],
   "source": [
    "result, estimator = run_on_dfs(simple_train, simple_test, **myparam)"
   ]
  },
  {
   "cell_type": "code",
   "execution_count": 131,
   "metadata": {},
   "outputs": [],
   "source": [
    "result"
   ]
  }
 ],
 "metadata": {
  "kernelspec": {
   "display_name": "Python 3",
   "language": "python",
   "name": "python3"
  },
  "language_info": {
   "codemirror_mode": {
    "name": "ipython",
    "version": 3
   },
   "file_extension": ".py",
   "mimetype": "text/x-python",
   "name": "python",
   "nbconvert_exporter": "python",
   "pygments_lexer": "ipython3",
   "version": "3.7.3"
  }
 },
 "nbformat": 4,
 "nbformat_minor": 2
}
