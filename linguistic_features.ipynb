{
 "cells": [
  {
   "cell_type": "code",
   "execution_count": null,
   "metadata": {},
   "outputs": [],
   "source": [
    "def possessive_pronouns(sentence):\n",
    "    #need to parse things like \"theyre\"\n",
    "    l = [\"i\", \"me\", \"my\", \"mine\", \"we\", \"us\", \"our\", \"ours\"] \n",
    "    count = 0\n",
    "    for w in sentence.split(' '):\n",
    "        if w in l:\n",
    "            count += 1\n",
    "    return count\n",
    "\n",
    "def thirdperson_pronouns(sentence):\n",
    "    l = [\"he\", \"him\", \"his\", \"her\", \"hers\", \"they\", \"them\", \"their\", \"theirs\"]\n",
    "    count = 0\n",
    "    for w in sentence.split(' '):\n",
    "        if w in l:\n",
    "            count += 1\n",
    "    return count\n",
    "\n",
    "def negations(sentence):\n",
    "    l = [\"no\", \"not\", \"neither\", \"never\", \"no one\", \"nobody\", \"none\", \"nor\", \"nothing\", \"nowhere\"]\n",
    "    count = 0\n",
    "    for w in sentence.split(' '):\n",
    "        if w in l:\n",
    "            count += 1\n",
    "    return count\n",
    "\n",
    "def cognitive_complexity(sentence):\n",
    "    l = [\"than\", \"rather than\", \"whether\", \"as much as\", \"whereas\", \"though\", \"although\", \"even though\", \"while\", \"if\", \"only if\",\n",
    "    \"unless\", \"until\", \"providing that\", \"assuming that\", \"even if\", \"in case\", \"in case that\", \"lest\"]\n",
    "    count = 0\n",
    "    for w in l:\n",
    "        count += sentence.count(w)\n",
    "    return count"
   ]
  },
  {
   "cell_type": "code",
   "execution_count": null,
   "metadata": {},
   "outputs": [],
   "source": [
    "def append_linguistic(df, f, name):\n",
    "    counts = []\n",
    "    for s in df.statement:\n",
    "        counts.append(f(s))\n",
    "    df[name] = counts\n",
    "    \n",
    "append_linguistic(train, possessive_pronouns, 'possessive')\n",
    "append_linguistic(train, negations, 'negations')\n",
    "append_linguistic(train, cognitive_complexity, 'complexity')"
   ]
  }
 ],
 "metadata": {
  "kernelspec": {
   "display_name": "Python 3",
   "language": "python",
   "name": "python3"
  },
  "language_info": {
   "codemirror_mode": {
    "name": "ipython",
    "version": 3
   },
   "file_extension": ".py",
   "mimetype": "text/x-python",
   "name": "python",
   "nbconvert_exporter": "python",
   "pygments_lexer": "ipython3",
   "version": "3.7.3"
  }
 },
 "nbformat": 4,
 "nbformat_minor": 2
}
